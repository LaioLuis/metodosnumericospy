{
 "cells": [
  {
   "cell_type": "code",
   "execution_count": 1,
   "source": [
    "import numpy as np\r\n",
    "import math\r\n",
    "import matplotlib.pyplot as plt\r\n",
    "import seaborn as sns\r\n",
    "from math import sin, pi, cos, sqrt, exp\r\n",
    "\r\n",
    "def feval(funcName, *args):\r\n",
    "        return eval(funcName)(*args)\r\n",
    "\r\n",
    "\r\n",
    "def funcaoy(t,y):\r\n",
    "  \r\n",
    "  dydt=9.81-((0.225/90)*(y**2))\r\n",
    "  \r\n",
    "  return dydt\r\n",
    "\r\n",
    "def funcaox(t,y):\r\n",
    "  \r\n",
    "  dxdt = y\r\n",
    "  \r\n",
    "  return dxdt\r\n",
    "\r\n",
    "def funcao(t,y):\r\n",
    "\r\n",
    "  #Função de x (altura), encontrada como consta na memória de calculo\r\n",
    "  x = -y*t + 1000\r\n",
    "\r\n",
    "  return x\r\n",
    "\r\n",
    "def feuler(t, y, x, h, tf, funcy, funcx):\r\n",
    "  \r\n",
    "  i=0\r\n",
    "  n2 = np.arange(t, tf+2*h, h)\r\n",
    "  n = len(n2)\r\n",
    "  vy=np.zeros(n)\r\n",
    "  vt=np.zeros(n)\r\n",
    "  vx=np.zeros(n)\r\n",
    "  vdx=np.zeros(n)\r\n",
    "  dydt=np.zeros(n)\r\n",
    "  dxdt=np.zeros(n)\r\n",
    "  vy[i]=y\r\n",
    "  vt[i]=t\r\n",
    "  vx[i]=x\r\n",
    "  vdx[i]=y\r\n",
    "\r\n",
    "  while vt[i] < tf:\r\n",
    "    #Cálculo da derivada no ponto i que conhecemos\r\n",
    "    dydt[i]=feval(funcy, vt[i], vy[i])\r\n",
    "    dxdt[i]=feval(funcx, vt[i], vy[i])\r\n",
    "    vt[i+1]=vt[i]+h\r\n",
    "    vy[i+1]=vy[i]+h*dydt[i]\r\n",
    "    vdx[i+1]=vdx[i]+h*dxdt[i]\r\n",
    "\r\n",
    "    vx[i]=funcao(vt[i], vdx[i])\r\n",
    "\r\n",
    "    #Parada no momento em que a altura chega a 0\r\n",
    "    if vx[i] <= 0.00001:\r\n",
    "      print('O tempo de queda aproximado foi: %1.1f segundos' %vt[i])\r\n",
    "      break\r\n",
    "    i = i+1\r\n",
    "  j=0\r\n",
    "\r\n",
    "  vete=[vt[j] for j in range(i+1)]\r\n",
    "  veips=[vy[j] for j in range(i+1)]\r\n",
    "  vex=[vx[j] for j in range(i+1)]\r\n",
    "  vedx=[vdx[j] for j in range(i+1)]\r\n",
    "  return vete, veips, vex, vedx\r\n",
    "\r\n",
    "t0=0 #Tempo inicial\r\n",
    "y0=0 #Velocidade inicial\r\n",
    "x0=1000 #Altura inicial\r\n",
    "h=0.1 #Passo do calculo da EDO\r\n",
    "tf=10 #Tempo final estimado a partir da visualização do gráfico\r\n",
    "funcy = 'funcaoy'\r\n",
    "funcx = 'funcaox'\r\n",
    "impress=feuler(t0, y0, x0, h, tf, funcy, funcx)"
   ],
   "outputs": [
    {
     "output_type": "stream",
     "name": "stdout",
     "text": [
      "O tempo de queda aproximado foi: 6.2 segundos\n"
     ]
    }
   ],
   "metadata": {}
  },
  {
   "cell_type": "code",
   "execution_count": 2,
   "source": [
    "x1=impress[0] #Valores do tempo\r\n",
    "y1=impress[1] #Valores de dydt(aceleração)\r\n",
    "z1=impress[2] #Valores de x(altura)\r\n",
    "w1=impress[3] #Valores de dxdt(velocidade)\r\n",
    "plt.plot(x1,y1) #Gráfico para aceleração pelo tempo em azul\r\n",
    "plt.plot(x1,z1) #Gráfico da altura pelo tempo em laranja\r\n",
    "plt.plot(x1,w1) #Gráfico da velocidade pelo tempo em verde\r\n",
    "plt.xlabel('Tempo (s)')\r\n",
    "plt.show()"
   ],
   "outputs": [
    {
     "output_type": "display_data",
     "data": {
      "image/png": "[encoded data removed]",
      "text/plain": [
       "<Figure size 432x288 with 1 Axes>"
      ]
     },
     "metadata": {
      "needs_background": "light"
     }
    }
   ],
   "metadata": {}
  }
 ],
 "metadata": {
  "orig_nbformat": 4,
  "language_info": {
   "name": "python",
   "version": "3.9.7",
   "mimetype": "text/x-python",
   "codemirror_mode": {
    "name": "ipython",
    "version": 3
   },
   "pygments_lexer": "ipython3",
   "nbconvert_exporter": "python",
   "file_extension": ".py"
  },
  "kernelspec": {
   "name": "python3",
   "display_name": "Python 3.9.7 64-bit"
  },
  "interpreter": {
   "hash": "be2e1b0ca2bdc68ed9711e5203eac80fb609423dd84e9554fe19fa1daadd7c76"
  }
 },
 "nbformat": 4,
 "nbformat_minor": 2
}