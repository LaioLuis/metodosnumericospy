{
 "cells": [
  {
   "cell_type": "code",
   "execution_count": 2,
   "source": [
    "import numpy as np\r\n",
    "import math\r\n",
    "import matplotlib.pyplot as plt\r\n",
    "import seaborn as sns\r\n",
    "from math import sin, pi, cos, sqrt, exp\r\n",
    "\r\n",
    "def feval(funcName, *args):\r\n",
    "        return eval(funcName)(*args)\r\n",
    "\r\n",
    "\r\n",
    "def funcaoy(t,y):\r\n",
    "  \r\n",
    "  #dydt=-0.1*(y-10)\r\n",
    "  #dydt=9.81-((0.225/90)*(y**2))\r\n",
    "  #dydt = -0.06*sqrt(y)\r\n",
    "  dydt = y*(t**2) - 1.1*y\r\n",
    "\r\n",
    "  return dydt\r\n",
    "def feuler(t, y, h, tf, funcy):\r\n",
    "  \r\n",
    "  i=0\r\n",
    "  n2 = np.arange(t, tf+2*h, h)\r\n",
    "  #print(n2)\r\n",
    "  n = len(n2)\r\n",
    "  vy=np.zeros(n)\r\n",
    "  vt=np.zeros(n)\r\n",
    "  k1=np.zeros(n)\r\n",
    "  k2=np.zeros(n)\r\n",
    "  k3=np.zeros(n)\r\n",
    "  k4=np.zeros(n)\r\n",
    "  dydt=np.zeros(n)\r\n",
    "  vy[i]=y\r\n",
    "  vt[i]=t\r\n",
    "\r\n",
    "  while vt[i] < tf:\r\n",
    "    #calculo da derivada no ponto i que conhecemos\r\n",
    "    k1[i]=feval(funcy, vt[i], vy[i])\r\n",
    "    k2[i]=feval(funcy, vt[i]+2*h/3, vy[i]+k1[i]*2*h/3)\r\n",
    "    dydt[i]= ((1/4)*k1[i] + (3/4)*k2[i])\r\n",
    "    #incremento t e y\r\n",
    "    vt[i+1]=vt[i]+h\r\n",
    "    vy[i+1]=vy[i]+h*dydt[i]\r\n",
    "    #vx[i+1]=vx[i]+h*dxdt[i]\r\n",
    "    i = i+1\r\n",
    "  j=0\r\n",
    "  #print(vete)\r\n",
    "  vete=[vt[j] for j in range(i+1)]\r\n",
    "  veips=[vy[j] for j in range(i+1)]\r\n",
    "  return vete, veips\r\n",
    "t0=0\r\n",
    "y0=1\r\n",
    "h=0.5\r\n",
    "tf=2\r\n",
    "funcy = 'funcaoy'\r\n",
    "impress=feuler(t0, y0, h, tf, funcy)\r\n",
    "x1=impress[0]\r\n",
    "y1=impress[1]\r\n",
    "print(impress)\r\n",
    "plt.plot(x1,y1)\r\n",
    "plt.show()"
   ],
   "outputs": [
    {
     "output_type": "stream",
     "name": "stdout",
     "text": [
      "([0.0, 0.5, 1.0, 1.5, 2.0], [1.0, 0.6276388888888889, 0.49254397665895056, 0.607402495660392, 1.4071702053110071])\n"
     ]
    },
    {
     "output_type": "display_data",
     "data": {
      "image/png": "[encoded data removed]",
      "text/plain": [
       "<Figure size 432x288 with 1 Axes>"
      ]
     },
     "metadata": {
      "needs_background": "light"
     }
    }
   ],
   "metadata": {}
  }
 ],
 "metadata": {
  "orig_nbformat": 4,
  "language_info": {
   "name": "python",
   "version": "3.9.7",
   "mimetype": "text/x-python",
   "codemirror_mode": {
    "name": "ipython",
    "version": 3
   },
   "pygments_lexer": "ipython3",
   "nbconvert_exporter": "python",
   "file_extension": ".py"
  },
  "kernelspec": {
   "name": "python3",
   "display_name": "Python 3.9.7 64-bit"
  },
  "interpreter": {
   "hash": "be2e1b0ca2bdc68ed9711e5203eac80fb609423dd84e9554fe19fa1daadd7c76"
  }
 },
 "nbformat": 4,
 "nbformat_minor": 2
}