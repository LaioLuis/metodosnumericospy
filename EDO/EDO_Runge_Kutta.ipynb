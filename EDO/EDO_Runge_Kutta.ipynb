{
 "cells": [
  {
   "cell_type": "code",
   "execution_count": 21,
   "source": [
    "import numpy as np\r\n",
    "import math\r\n",
    "import matplotlib.pyplot as plt\r\n",
    "import seaborn as sns\r\n",
    "from math import sin, pi, cos, sqrt, exp\r\n",
    "\r\n",
    "def feval(funcName, *args):\r\n",
    "        return eval(funcName)(*args)\r\n",
    "\r\n",
    "\r\n",
    "def funcaoy(t,y):\r\n",
    "  \r\n",
    "  c = 5\r\n",
    "  k = 20\r\n",
    "  m = 20\r\n",
    "  dydt = np.empty()\r\n",
    "  #dydt=-0.1*(y-10)\r\n",
    "  #dydt=9.81-((0.225/90)*(y**2))\r\n",
    "  #dydt = -0.06*sqrt(y)\r\n",
    "  dydt[0,0] = (-c*y[1] - k*y[0])/m\r\n",
    "  dydt[0,1] = y[1]\r\n",
    "\r\n",
    "  return dydt\r\n",
    "def feuler(t, y, x, h, tf, funcy):\r\n",
    "  \r\n",
    "  i=0\r\n",
    "  n = len(np.arange(t, tf+2*h, h))\r\n",
    "  vy=np.zeros(n,2)\r\n",
    "  vt=np.zeros(n)\r\n",
    "  k1=np.zeros(n,2)\r\n",
    "  k2=np.zeros(n,2)\r\n",
    "  k3=np.zeros(n,2)\r\n",
    "  k4=np.zeros(n,2)\r\n",
    "  dydt=np.zeros(n,2)\r\n",
    "  vy[i][0]=y\r\n",
    "  vy[i][1]=x\r\n",
    "  vt[i]=t\r\n",
    "\r\n",
    "  while vt[i] < tf:\r\n",
    "    #calculo da derivada no ponto i que conhecemos\r\n",
    "    k1[i]=feval(funcy, vt[i], vy[i])\r\n",
    "    k2[i]=feval(funcy, vt[i]+h/2, vy[i]+k1[i]*h/2)\r\n",
    "    k3[i]=feval(funcy, vt[i]+h/2, vy[i]+k2[i]*h/2)\r\n",
    "    k4[i]=feval(funcy, vt[i]+h, vy[i]+k3[i]*h)\r\n",
    "    dydt[i]= (1/6)*(k1[i]+2*k2[i]+2*k3[i]+k4[i])\r\n",
    "    #incremento t e y\r\n",
    "    vt[i+1]=vt[i]+h\r\n",
    "    vy[i+1][0]=vy[i][0]+h*dydt[i][0]\r\n",
    "    vy[i+1][1]=vy[i][1]+h*dydt[i][1]\r\n",
    "    i = i+1\r\n",
    "  j=0\r\n",
    "  #print(vete)\r\n",
    "  vete=[vt[j] for j in range(i+1)]\r\n",
    "  veips=[vy[j][0] for j in range(i+1)]\r\n",
    "  vex=[vy[j][1] for j in range(i+1)]\r\n",
    "  return vete, veips, vex\r\n",
    "t0=0\r\n",
    "y0=0\r\n",
    "x0=1\r\n",
    "h=0.5\r\n",
    "tf=15\r\n",
    "funcy = 'funcaoy'\r\n",
    "impress=feuler(t0, y0, x0, h, tf, funcy)\r\n",
    "x1=impress[0]\r\n",
    "y1=impress[1]\r\n",
    "z1=impress[2]\r\n",
    "print(impress)\r\n",
    "plt.plot(x1,y1)\r\n",
    "plt.plot(x1,z1)\r\n",
    "plt.show()"
   ],
   "outputs": [
    {
     "output_type": "stream",
     "name": "stdout",
     "text": [
      "([0.0, 0.5, 1.0, 1.5, 2.0, 2.5, 3.0, 3.5, 4.0, 4.5, 5.0, 5.5, 6.0, 6.5, 7.0, 7.5, 8.0, 8.5, 9.0, 9.5, 10.0, 10.5, 11.0, 11.5, 12.0, 12.5, 13.0, 13.5, 14.0, 14.5, 15.0], [0.0, -0.11995442708333333, -0.46081956393188894, -0.9966377729266679, -1.704501512804232, -2.5641949436473137, -3.557877644309849, -4.669805493945438, -5.886084350751226, -7.194452674160981, -8.584089689549637, -10.045446094131467, -11.570094655397412, -13.150598364661576, -14.780394082941546, -16.453689858779175, -18.165374311509904, -19.91093666225605, -21.686396161506135, -23.48823980915468, -25.313367392614705, -27.159042983108556, -29.022852131282722, -30.90266409245982, -32.796598490531075, -34.702995898936386, -36.62039187846302, -38.5474940656769, -40.48316195352852, -42.426389047795205, -44.37628712019223], [1.0, 1.0, 0.922217051188151, 0.6234043652010668, -0.022852940681069356, -1.1281156403900634, -2.7908357991613686, -5.097897084143536, -8.125974084123781, -11.942731905314028, -16.60788481121529, -22.17413046928263, -28.687974420946002, -36.19045767405526, -44.7177988011405, -54.30196058929791, -64.97115010710003, -76.75026001221974, -89.66125800415139, -103.72353051512803, -118.95418601637677, -135.36832268502536, -152.97926461938482, -171.79877029826346, -191.83721654571787, -213.1037608794216, -235.60648478263818, -259.352520141329, -284.34816082454137, -310.5989611537825, -338.1098228019622])\n"
     ]
    },
    {
     "output_type": "display_data",
     "data": {
      "image/png": "[encoded data removed]",
      "text/plain": [
       "<Figure size 432x288 with 1 Axes>"
      ]
     },
     "metadata": {
      "needs_background": "light"
     }
    }
   ],
   "metadata": {}
  }
 ],
 "metadata": {
  "orig_nbformat": 4,
  "language_info": {
   "name": "python",
   "version": "3.9.7",
   "mimetype": "text/x-python",
   "codemirror_mode": {
    "name": "ipython",
    "version": 3
   },
   "pygments_lexer": "ipython3",
   "nbconvert_exporter": "python",
   "file_extension": ".py"
  },
  "kernelspec": {
   "name": "python3",
   "display_name": "Python 3.9.7 64-bit"
  },
  "interpreter": {
   "hash": "be2e1b0ca2bdc68ed9711e5203eac80fb609423dd84e9554fe19fa1daadd7c76"
  }
 },
 "nbformat": 4,
 "nbformat_minor": 2
}