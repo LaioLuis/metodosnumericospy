{
 "cells": [
  {
   "cell_type": "code",
   "execution_count": 21,
   "source": [
    "import numpy as np\r\n",
    "import math\r\n",
    "import matplotlib.pyplot as plt\r\n",
    "import seaborn as sns\r\n",
    "from math import sin, pi, cos, sqrt, exp\r\n",
    "\r\n",
    "def feval(funcName, *args):\r\n",
    "        return eval(funcName)(*args)\r\n",
    "\r\n",
    "\r\n",
    "def funcaoy(t,y):\r\n",
    "  \r\n",
    "  #dydt=-0.1*(y-10)\r\n",
    "  #dydt=-2*y+4*exp(-t)\r\n",
    "  dydt=9.81-((0.225/90)*(y**2))\r\n",
    "  \r\n",
    "  return dydt\r\n",
    "def funcaox(t,x):\r\n",
    "\r\n",
    "  #dxdt=(-y*(x**2))/3\r\n",
    "  dxdt = 1000/t\r\n",
    "\r\n",
    "  return dxdt\r\n",
    "\r\n",
    "def feuler(t, y, x, h, tf, funcy, funcx):\r\n",
    "  \r\n",
    "  i=0\r\n",
    "  n = len(np.arange(t, tf+h, h))\r\n",
    "  print(n)\r\n",
    "  vy=np.zeros(n)\r\n",
    "  vt=np.zeros(n)\r\n",
    "  vx=np.zeros(n)\r\n",
    "  dydt=np.zeros(n)\r\n",
    "  dxdt=np.zeros(n)\r\n",
    "  vy[i]=y\r\n",
    "  vt[i]=t\r\n",
    "  vx[i]=x\r\n",
    "\r\n",
    "  while vt[i] < tf:\r\n",
    "    #calculo da derivada no ponto i que conhecemos\r\n",
    "    dydt[i]=feval(funcy, vt[i], vy[i])\r\n",
    "    dxdt[j]=feval(funcx, vt[j], vx[j])\r\n",
    "    #incremento t e y\r\n",
    "    vt[i+1]=vt[i]+h\r\n",
    "    vy[i+1]=vy[i]+h*dydt[i]\r\n",
    "    vx[j+1]=vx[j]+h*dxdt[j]\r\n",
    "    i = i+1\r\n",
    "  j=0\r\n",
    "  vete=[vt[j] for j in range(i+1)]\r\n",
    "  veips=[vy[j] for j in range(i+1)]\r\n",
    "  vex=[vx[j] for j in range(i+1)]\r\n",
    "  return vete, veips, vex\r\n",
    "\r\n",
    "t0=0\r\n",
    "y0=0\r\n",
    "x0=1000\r\n",
    "h=0.5\r\n",
    "tf=10\r\n",
    "funcy = 'funcaoy'\r\n",
    "funcx = 'funcaox'\r\n",
    "impress=feuler(t0, y0, x0, h, tf, funcy, funcx)\r\n",
    "t1=impress[0]\r\n",
    "y1=impress[1]\r\n",
    "x1=impress[2]\r\n",
    "#print(impress)\r\n",
    "plt.plot(t1,y1)\r\n",
    "plt.plot(t1,x1)\r\n",
    "plt.show()"
   ],
   "outputs": [
    {
     "output_type": "stream",
     "name": "stdout",
     "text": [
      "21\n"
     ]
    },
    {
     "output_type": "error",
     "ename": "UnboundLocalError",
     "evalue": "local variable 'j' referenced before assignment",
     "traceback": [
      "\u001b[1;31m---------------------------------------------------------------------------\u001b[0m",
      "\u001b[1;31mUnboundLocalError\u001b[0m                         Traceback (most recent call last)",
      "\u001b[1;32m~\\AppData\\Local\\Temp/ipykernel_1972/3941697094.py\u001b[0m in \u001b[0;36m<module>\u001b[1;34m\u001b[0m\n\u001b[0;32m     59\u001b[0m \u001b[0mfuncy\u001b[0m \u001b[1;33m=\u001b[0m \u001b[1;34m'funcaoy'\u001b[0m\u001b[1;33m\u001b[0m\u001b[1;33m\u001b[0m\u001b[0m\n\u001b[0;32m     60\u001b[0m \u001b[0mfuncx\u001b[0m \u001b[1;33m=\u001b[0m \u001b[1;34m'funcaox'\u001b[0m\u001b[1;33m\u001b[0m\u001b[1;33m\u001b[0m\u001b[0m\n\u001b[1;32m---> 61\u001b[1;33m \u001b[0mimpress\u001b[0m\u001b[1;33m=\u001b[0m\u001b[0mfeuler\u001b[0m\u001b[1;33m(\u001b[0m\u001b[0mt0\u001b[0m\u001b[1;33m,\u001b[0m \u001b[0my0\u001b[0m\u001b[1;33m,\u001b[0m \u001b[0mx0\u001b[0m\u001b[1;33m,\u001b[0m \u001b[0mh\u001b[0m\u001b[1;33m,\u001b[0m \u001b[0mtf\u001b[0m\u001b[1;33m,\u001b[0m \u001b[0mfuncy\u001b[0m\u001b[1;33m,\u001b[0m \u001b[0mfuncx\u001b[0m\u001b[1;33m)\u001b[0m\u001b[1;33m\u001b[0m\u001b[1;33m\u001b[0m\u001b[0m\n\u001b[0m\u001b[0;32m     62\u001b[0m \u001b[0mt1\u001b[0m\u001b[1;33m=\u001b[0m\u001b[0mimpress\u001b[0m\u001b[1;33m[\u001b[0m\u001b[1;36m0\u001b[0m\u001b[1;33m]\u001b[0m\u001b[1;33m\u001b[0m\u001b[1;33m\u001b[0m\u001b[0m\n\u001b[0;32m     63\u001b[0m \u001b[0my1\u001b[0m\u001b[1;33m=\u001b[0m\u001b[0mimpress\u001b[0m\u001b[1;33m[\u001b[0m\u001b[1;36m1\u001b[0m\u001b[1;33m]\u001b[0m\u001b[1;33m\u001b[0m\u001b[1;33m\u001b[0m\u001b[0m\n",
      "\u001b[1;32m~\\AppData\\Local\\Temp/ipykernel_1972/3941697094.py\u001b[0m in \u001b[0;36mfeuler\u001b[1;34m(t, y, x, h, tf, funcy, funcx)\u001b[0m\n\u001b[0;32m     40\u001b[0m     \u001b[1;31m#calculo da derivada no ponto i que conhecemos\u001b[0m\u001b[1;33m\u001b[0m\u001b[1;33m\u001b[0m\u001b[0m\n\u001b[0;32m     41\u001b[0m     \u001b[0mdydt\u001b[0m\u001b[1;33m[\u001b[0m\u001b[0mi\u001b[0m\u001b[1;33m]\u001b[0m\u001b[1;33m=\u001b[0m\u001b[0mfeval\u001b[0m\u001b[1;33m(\u001b[0m\u001b[0mfuncy\u001b[0m\u001b[1;33m,\u001b[0m \u001b[0mvt\u001b[0m\u001b[1;33m[\u001b[0m\u001b[0mi\u001b[0m\u001b[1;33m]\u001b[0m\u001b[1;33m,\u001b[0m \u001b[0mvy\u001b[0m\u001b[1;33m[\u001b[0m\u001b[0mi\u001b[0m\u001b[1;33m]\u001b[0m\u001b[1;33m)\u001b[0m\u001b[1;33m\u001b[0m\u001b[1;33m\u001b[0m\u001b[0m\n\u001b[1;32m---> 42\u001b[1;33m     \u001b[0mdxdt\u001b[0m\u001b[1;33m[\u001b[0m\u001b[0mj\u001b[0m\u001b[1;33m]\u001b[0m\u001b[1;33m=\u001b[0m\u001b[0mfeval\u001b[0m\u001b[1;33m(\u001b[0m\u001b[0mfuncx\u001b[0m\u001b[1;33m,\u001b[0m \u001b[0mvt\u001b[0m\u001b[1;33m[\u001b[0m\u001b[0mj\u001b[0m\u001b[1;33m]\u001b[0m\u001b[1;33m,\u001b[0m \u001b[0mvx\u001b[0m\u001b[1;33m[\u001b[0m\u001b[0mj\u001b[0m\u001b[1;33m]\u001b[0m\u001b[1;33m)\u001b[0m\u001b[1;33m\u001b[0m\u001b[1;33m\u001b[0m\u001b[0m\n\u001b[0m\u001b[0;32m     43\u001b[0m     \u001b[1;31m#incremento t e y\u001b[0m\u001b[1;33m\u001b[0m\u001b[1;33m\u001b[0m\u001b[0m\n\u001b[0;32m     44\u001b[0m     \u001b[0mvt\u001b[0m\u001b[1;33m[\u001b[0m\u001b[0mi\u001b[0m\u001b[1;33m+\u001b[0m\u001b[1;36m1\u001b[0m\u001b[1;33m]\u001b[0m\u001b[1;33m=\u001b[0m\u001b[0mvt\u001b[0m\u001b[1;33m[\u001b[0m\u001b[0mi\u001b[0m\u001b[1;33m]\u001b[0m\u001b[1;33m+\u001b[0m\u001b[0mh\u001b[0m\u001b[1;33m\u001b[0m\u001b[1;33m\u001b[0m\u001b[0m\n",
      "\u001b[1;31mUnboundLocalError\u001b[0m: local variable 'j' referenced before assignment"
     ]
    }
   ],
   "metadata": {}
  }
 ],
 "metadata": {
  "orig_nbformat": 4,
  "language_info": {
   "name": "python",
   "version": "3.9.7",
   "mimetype": "text/x-python",
   "codemirror_mode": {
    "name": "ipython",
    "version": 3
   },
   "pygments_lexer": "ipython3",
   "nbconvert_exporter": "python",
   "file_extension": ".py"
  },
  "kernelspec": {
   "name": "python3",
   "display_name": "Python 3.9.7 64-bit"
  },
  "interpreter": {
   "hash": "be2e1b0ca2bdc68ed9711e5203eac80fb609423dd84e9554fe19fa1daadd7c76"
  }
 },
 "nbformat": 4,
 "nbformat_minor": 2
}